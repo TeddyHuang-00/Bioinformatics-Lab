{
 "cells": [
  {
   "cell_type": "code",
   "execution_count": 1,
   "metadata": {},
   "outputs": [],
   "source": [
    "import os"
   ]
  },
  {
   "cell_type": "code",
   "execution_count": 2,
   "metadata": {},
   "outputs": [
    {
     "data": {
      "text/plain": "['ERR188044-count.txt',\n 'ERR188104-count.txt',\n 'ERR188234-count.txt',\n 'ERR188245-count.txt',\n 'ERR188257-count.txt',\n 'ERR188273-count.txt',\n 'ERR188337-count.txt',\n 'ERR188383-count.txt',\n 'ERR188401-count.txt',\n 'ERR188428-count.txt',\n 'ERR188454-count.txt',\n 'ERR204916-count.txt']"
     },
     "execution_count": 2,
     "metadata": {},
     "output_type": "execute_result"
    }
   ],
   "source": [
    "fileList = [fileName for fileName in os.listdir(\".\") if fileName[:3] == \"ERR\"]\n",
    "fileList\n"
   ]
  },
  {
   "cell_type": "code",
   "execution_count": 3,
   "metadata": {},
   "outputs": [
    {
     "data": {
      "text/plain": "['ERR188044',\n 'ERR188104',\n 'ERR188234',\n 'ERR188245',\n 'ERR188257',\n 'ERR188273',\n 'ERR188337',\n 'ERR188383',\n 'ERR188401',\n 'ERR188428',\n 'ERR188454',\n 'ERR204916']"
     },
     "execution_count": 3,
     "metadata": {},
     "output_type": "execute_result"
    }
   ],
   "source": [
    "sampleNameList = [name[:9] for name in fileList]\n",
    "sampleNameList"
   ]
  },
  {
   "cell_type": "code",
   "execution_count": 4,
   "metadata": {},
   "outputs": [],
   "source": [
    "import pandas as pd\n",
    "\n",
    "total = []\n",
    "for fileName in fileList:\n",
    "    with open(fileName) as fin:\n",
    "        df = pd.read_table(fin, index_col=0, names=[fileName[:9]])\n",
    "        df = df.sort_index()\n",
    "        total.append(df)\n"
   ]
  },
  {
   "cell_type": "code",
   "execution_count": 5,
   "metadata": {},
   "outputs": [
    {
     "data": {
      "text/html": "<div>\n<style scoped>\n    .dataframe tbody tr th:only-of-type {\n        vertical-align: middle;\n    }\n\n    .dataframe tbody tr th {\n        vertical-align: top;\n    }\n\n    .dataframe thead th {\n        text-align: right;\n    }\n</style>\n<table border=\"1\" class=\"dataframe\">\n  <thead>\n    <tr style=\"text-align: right;\">\n      <th></th>\n      <th>ERR188044</th>\n    </tr>\n  </thead>\n  <tbody>\n    <tr>\n      <th>NM_000032</th>\n      <td>0</td>\n    </tr>\n    <tr>\n      <th>NM_000033</th>\n      <td>220</td>\n    </tr>\n    <tr>\n      <th>NM_000044</th>\n      <td>1</td>\n    </tr>\n    <tr>\n      <th>NM_000047</th>\n      <td>0</td>\n    </tr>\n    <tr>\n      <th>NM_000052</th>\n      <td>26</td>\n    </tr>\n    <tr>\n      <th>...</th>\n      <td>...</td>\n    </tr>\n    <tr>\n      <th>NM_207318</th>\n      <td>1341</td>\n    </tr>\n    <tr>\n      <th>NM_207320</th>\n      <td>0</td>\n    </tr>\n    <tr>\n      <th>NM_207339</th>\n      <td>0</td>\n    </tr>\n    <tr>\n      <th>NM_207422</th>\n      <td>109</td>\n    </tr>\n    <tr>\n      <th>NM_212559</th>\n      <td>16</td>\n    </tr>\n  </tbody>\n</table>\n<p>1686 rows × 1 columns</p>\n</div>",
      "text/plain": "           ERR188044\nNM_000032          0\nNM_000033        220\nNM_000044          1\nNM_000047          0\nNM_000052         26\n...              ...\nNM_207318       1341\nNM_207320          0\nNM_207339          0\nNM_207422        109\nNM_212559         16\n\n[1686 rows x 1 columns]"
     },
     "execution_count": 5,
     "metadata": {},
     "output_type": "execute_result"
    }
   ],
   "source": [
    "total[0]"
   ]
  },
  {
   "cell_type": "code",
   "execution_count": 6,
   "metadata": {},
   "outputs": [],
   "source": [
    "df = pd.concat(total, axis=1)\n",
    "df.to_csv(\"./genes-count.csv\")\n"
   ]
  },
  {
   "cell_type": "code",
   "execution_count": 7,
   "metadata": {},
   "outputs": [
    {
     "data": {
      "text/html": "<div>\n<style scoped>\n    .dataframe tbody tr th:only-of-type {\n        vertical-align: middle;\n    }\n\n    .dataframe tbody tr th {\n        vertical-align: top;\n    }\n\n    .dataframe thead th {\n        text-align: right;\n    }\n</style>\n<table border=\"1\" class=\"dataframe\">\n  <thead>\n    <tr style=\"text-align: right;\">\n      <th></th>\n      <th>ERR188044</th>\n      <th>ERR188104</th>\n      <th>ERR188234</th>\n      <th>ERR188245</th>\n      <th>ERR188257</th>\n      <th>ERR188273</th>\n      <th>ERR188337</th>\n      <th>ERR188383</th>\n      <th>ERR188401</th>\n      <th>ERR188428</th>\n      <th>ERR188454</th>\n      <th>ERR204916</th>\n    </tr>\n  </thead>\n  <tbody>\n    <tr>\n      <th>NM_000033</th>\n      <td>220</td>\n      <td>90</td>\n      <td>161</td>\n      <td>229</td>\n      <td>190</td>\n      <td>91</td>\n      <td>295</td>\n      <td>141</td>\n      <td>226</td>\n      <td>104</td>\n      <td>166</td>\n      <td>143</td>\n    </tr>\n    <tr>\n      <th>NM_000052</th>\n      <td>26</td>\n      <td>25</td>\n      <td>11</td>\n      <td>2</td>\n      <td>5</td>\n      <td>9</td>\n      <td>4</td>\n      <td>5</td>\n      <td>16</td>\n      <td>6</td>\n      <td>12</td>\n      <td>20</td>\n    </tr>\n    <tr>\n      <th>NM_000074</th>\n      <td>0</td>\n      <td>0</td>\n      <td>1</td>\n      <td>1</td>\n      <td>0</td>\n      <td>2</td>\n      <td>1</td>\n      <td>0</td>\n      <td>2</td>\n      <td>1</td>\n      <td>0</td>\n      <td>0</td>\n    </tr>\n    <tr>\n      <th>NM_000117</th>\n      <td>1400</td>\n      <td>1228</td>\n      <td>1329</td>\n      <td>1589</td>\n      <td>1474</td>\n      <td>581</td>\n      <td>1897</td>\n      <td>1432</td>\n      <td>1851</td>\n      <td>719</td>\n      <td>1216</td>\n      <td>1521</td>\n    </tr>\n    <tr>\n      <th>NM_000132</th>\n      <td>10</td>\n      <td>5</td>\n      <td>9</td>\n      <td>4</td>\n      <td>11</td>\n      <td>11</td>\n      <td>21</td>\n      <td>8</td>\n      <td>26</td>\n      <td>13</td>\n      <td>1</td>\n      <td>3</td>\n    </tr>\n    <tr>\n      <th>...</th>\n      <td>...</td>\n      <td>...</td>\n      <td>...</td>\n      <td>...</td>\n      <td>...</td>\n      <td>...</td>\n      <td>...</td>\n      <td>...</td>\n      <td>...</td>\n      <td>...</td>\n      <td>...</td>\n      <td>...</td>\n    </tr>\n    <tr>\n      <th>NM_201599</th>\n      <td>4</td>\n      <td>1</td>\n      <td>0</td>\n      <td>0</td>\n      <td>2</td>\n      <td>0</td>\n      <td>1</td>\n      <td>1</td>\n      <td>0</td>\n      <td>0</td>\n      <td>1</td>\n      <td>0</td>\n    </tr>\n    <tr>\n      <th>NM_206923</th>\n      <td>69</td>\n      <td>53</td>\n      <td>43</td>\n      <td>34</td>\n      <td>50</td>\n      <td>23</td>\n      <td>86</td>\n      <td>40</td>\n      <td>88</td>\n      <td>22</td>\n      <td>69</td>\n      <td>38</td>\n    </tr>\n    <tr>\n      <th>NM_207318</th>\n      <td>1341</td>\n      <td>1803</td>\n      <td>1220</td>\n      <td>687</td>\n      <td>1046</td>\n      <td>571</td>\n      <td>1224</td>\n      <td>1180</td>\n      <td>1488</td>\n      <td>817</td>\n      <td>1384</td>\n      <td>1183</td>\n    </tr>\n    <tr>\n      <th>NM_207422</th>\n      <td>109</td>\n      <td>233</td>\n      <td>258</td>\n      <td>103</td>\n      <td>109</td>\n      <td>98</td>\n      <td>124</td>\n      <td>310</td>\n      <td>229</td>\n      <td>185</td>\n      <td>263</td>\n      <td>308</td>\n    </tr>\n    <tr>\n      <th>NM_212559</th>\n      <td>16</td>\n      <td>19</td>\n      <td>42</td>\n      <td>2</td>\n      <td>2</td>\n      <td>3</td>\n      <td>6</td>\n      <td>6</td>\n      <td>3</td>\n      <td>2</td>\n      <td>7</td>\n      <td>2</td>\n    </tr>\n  </tbody>\n</table>\n<p>407 rows × 12 columns</p>\n</div>",
      "text/plain": "           ERR188044  ERR188104  ERR188234  ERR188245  ERR188257  ERR188273  \\\nNM_000033        220         90        161        229        190         91   \nNM_000052         26         25         11          2          5          9   \nNM_000074          0          0          1          1          0          2   \nNM_000117       1400       1228       1329       1589       1474        581   \nNM_000132         10          5          9          4         11         11   \n...              ...        ...        ...        ...        ...        ...   \nNM_201599          4          1          0          0          2          0   \nNM_206923         69         53         43         34         50         23   \nNM_207318       1341       1803       1220        687       1046        571   \nNM_207422        109        233        258        103        109         98   \nNM_212559         16         19         42          2          2          3   \n\n           ERR188337  ERR188383  ERR188401  ERR188428  ERR188454  ERR204916  \nNM_000033        295        141        226        104        166        143  \nNM_000052          4          5         16          6         12         20  \nNM_000074          1          0          2          1          0          0  \nNM_000117       1897       1432       1851        719       1216       1521  \nNM_000132         21          8         26         13          1          3  \n...              ...        ...        ...        ...        ...        ...  \nNM_201599          1          1          0          0          1          0  \nNM_206923         86         40         88         22         69         38  \nNM_207318       1224       1180       1488        817       1384       1183  \nNM_207422        124        310        229        185        263        308  \nNM_212559          6          6          3          2          7          2  \n\n[407 rows x 12 columns]"
     },
     "execution_count": 7,
     "metadata": {},
     "output_type": "execute_result"
    }
   ],
   "source": [
    "filtered = df[df.sum(axis=1) >= 6]\n",
    "filtered\n"
   ]
  },
  {
   "cell_type": "code",
   "execution_count": 8,
   "metadata": {},
   "outputs": [],
   "source": [
    "filtered.to_csv(\"./filtered-count.csv\")"
   ]
  },
  {
   "cell_type": "code",
   "execution_count": 9,
   "metadata": {},
   "outputs": [
    {
     "data": {
      "text/plain": "(1686, 12)"
     },
     "execution_count": 9,
     "metadata": {},
     "output_type": "execute_result"
    }
   ],
   "source": [
    "df.shape"
   ]
  },
  {
   "cell_type": "code",
   "execution_count": 10,
   "metadata": {},
   "outputs": [
    {
     "data": {
      "text/plain": "(407, 12)"
     },
     "execution_count": 10,
     "metadata": {},
     "output_type": "execute_result"
    }
   ],
   "source": [
    "filtered.shape"
   ]
  },
  {
   "cell_type": "code",
   "execution_count": null,
   "metadata": {},
   "outputs": [],
   "source": []
  }
 ],
 "metadata": {
  "kernelspec": {
   "display_name": "Python 3.7.3 64-bit",
   "name": "python373jvsc74a57bd031f2aee4e71d21fbe5cf8b01ff0e069b9275f58929596ceb00d14d90e3e16cd6"
  },
  "language_info": {
   "codemirror_mode": {
    "name": "ipython",
    "version": 3
   },
   "file_extension": ".py",
   "mimetype": "text/x-python",
   "name": "python",
   "nbconvert_exporter": "python",
   "pygments_lexer": "ipython3",
   "version": "3.7.3"
  },
  "metadata": {
   "interpreter": {
    "hash": "31f2aee4e71d21fbe5cf8b01ff0e069b9275f58929596ceb00d14d90e3e16cd6"
   }
  },
  "orig_nbformat": 2
 },
 "nbformat": 4,
 "nbformat_minor": 2
}